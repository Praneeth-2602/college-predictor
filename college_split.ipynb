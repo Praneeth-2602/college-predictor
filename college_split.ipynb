{
 "cells": [
  {
   "cell_type": "code",
   "execution_count": 1,
   "metadata": {},
   "outputs": [
    {
     "name": "stdout",
     "output_type": "stream",
     "text": [
      "['OPEN' 'EWS' 'OBC-NCL' 'SC' 'ST' 'OPEN (PwD)' 'EWS (PwD)' 'OBC-NCL (PwD)'\n",
      " 'SC (PwD)' 'ST (PwD)']\n"
     ]
    }
   ],
   "source": [
    "import pandas as pd\n",
    "import json\n",
    "\n",
    "\n",
    "\n",
    "df = pd.read_csv(\"JoSAA 2022 Seat Allocation Tool - For Surya.csv\", header=0)\n",
    "# print(df.head())\n",
    "seat_types = df[\"Seat Type\"].unique()\n",
    "print(seat_types)"
   ]
  },
  {
   "cell_type": "code",
   "execution_count": null,
   "metadata": {},
   "outputs": [],
   "source": [
    "for seat_type in seat_types:\n",
    "    df_seat_type = df[df[\"Seat Type\"] == seat_type]\n",
    "    df_seat_type.to_json(f\"public/data/{seat_type}.json\", orient=\"records\")"
   ]
  },
  {
   "cell_type": "code",
   "execution_count": 42,
   "metadata": {},
   "outputs": [
    {
     "data": {
      "text/plain": [
       "Index(['College Rank', 'State', 'Exam', 'Institute', 'Academic Program Name',\n",
       "       'Quota', 'Special Quota', 'Seat Type', 'Gender', 'Round',\n",
       "       'Opening Rank', 'Closing Rank', 'Input Rank Comparison to Closing Rank',\n",
       "       'Category Match', '500', 'OBC-NCL'],\n",
       "      dtype='object')"
      ]
     },
     "execution_count": 42,
     "metadata": {},
     "output_type": "execute_result"
    }
   ],
   "source": [
    "df.columns"
   ]
  },
  {
   "cell_type": "code",
   "execution_count": 18,
   "metadata": {},
   "outputs": [
    {
     "data": {
      "text/plain": [
       "array(['Gender-Neutral', 'Female-only (including Supernumerary)'],\n",
       "      dtype=object)"
      ]
     },
     "execution_count": 18,
     "metadata": {},
     "output_type": "execute_result"
    }
   ],
   "source": [
    "df[\"Gender\"].unique()"
   ]
  },
  {
   "cell_type": "code",
   "execution_count": 22,
   "metadata": {},
   "outputs": [
    {
     "data": {
      "text/plain": [
       "array(['JEE Advanced', 'JEE Main'], dtype=object)"
      ]
     },
     "execution_count": 22,
     "metadata": {},
     "output_type": "execute_result"
    }
   ],
   "source": [
    "df[\"Exam\"].unique()"
   ]
  },
  {
   "cell_type": "code",
   "execution_count": 23,
   "metadata": {},
   "outputs": [
    {
     "data": {
      "text/plain": [
       "array(['Odisha', 'Maharashtra', 'Himachal Pradesh', 'New Delhi',\n",
       "       'Madhya Pradesh', 'West Bengal', 'Telangana', 'Rajasthan',\n",
       "       'Uttar Pradesh', 'Tamil Nadu', 'Gujarat', 'Bihar', 'Uttarakhand',\n",
       "       'Jharkhand', 'Punjab', 'Assam', 'Chhatisgarh', 'Goa', 'Kerala',\n",
       "       'Andhra Pradesh', 'Jammu & Kashmir', 'Karnataka', 'Tripura',\n",
       "       'Meghalaya', 'Nagaland', 'Puducherry', 'Sikkim',\n",
       "       'Arunachal Pradesh', 'Haryana', 'Manipur', 'Mizoram', 'Diu'],\n",
       "      dtype=object)"
      ]
     },
     "execution_count": 23,
     "metadata": {},
     "output_type": "execute_result"
    }
   ],
   "source": [
    "df[\"State\"].unique()"
   ]
  },
  {
   "cell_type": "code",
   "execution_count": 19,
   "metadata": {},
   "outputs": [
    {
     "data": {
      "text/plain": [
       "6"
      ]
     },
     "execution_count": 19,
     "metadata": {},
     "output_type": "execute_result"
    }
   ],
   "source": [
    "df[\"Round\"].max()"
   ]
  },
  {
   "cell_type": "code",
   "execution_count": 28,
   "metadata": {},
   "outputs": [
    {
     "data": {
      "text/plain": [
       "array(['AI', 'HS', 'OS'], dtype=object)"
      ]
     },
     "execution_count": 28,
     "metadata": {},
     "output_type": "execute_result"
    }
   ],
   "source": [
    "df[\"Quota\"].unique()"
   ]
  },
  {
   "cell_type": "code",
   "execution_count": null,
   "metadata": {},
   "outputs": [],
   "source": [
    "# re rank based on round 1 ke open category ka closing ranks!"
   ]
  },
  {
   "cell_type": "code",
   "execution_count": 27,
   "metadata": {},
   "outputs": [
    {
     "data": {
      "text/plain": [
       "array(['HS', 'OS'], dtype=object)"
      ]
     },
     "execution_count": 27,
     "metadata": {},
     "output_type": "execute_result"
    }
   ],
   "source": [
    "df[df[\"Institute\"] == \"National Institute of Technology Karnataka, Surathkal\"][\"Quota\"].unique()"
   ]
  },
  {
   "cell_type": "code",
   "execution_count": 32,
   "metadata": {},
   "outputs": [
    {
     "data": {
      "text/plain": [
       "(Index(['S. No.', 'Rollno', 'Name', 'Quota', 'AIR', 'Category', 'optionN o',\n",
       "        'Institute Code', 'Institute Name', 'Subject', 'Allotted Category',\n",
       "        'Allotte d ph', 'Admitte dRound'],\n",
       "       dtype='object'),\n",
       " Index(['Institute Name', 'State', 'Subject', 'General', 'EW', 'SC', 'ST',\n",
       "        'OBC', 'General_PWD', 'EW_PWD', 'SC_PWD', 'ST_PWD', 'OBC_PWD',\n",
       "        'Unnamed: 13', 'Unnamed: 14', 'Unnamed: 15', 'Unnamed: 16',\n",
       "        'Unnamed: 17', 'Unnamed: 18', 'Unnamed: 19', 'Unnamed: 20',\n",
       "        'Unnamed: 21', 'Unnamed: 22', 'Unnamed: 23', 'Unnamed: 24'],\n",
       "       dtype='object'))"
      ]
     },
     "execution_count": 32,
     "metadata": {},
     "output_type": "execute_result"
    }
   ],
   "source": [
    "neet_report = pd.read_csv(\"Admitted Candidates List Upto Mop Up Round MBBS BD.xlsx - Report.csv\")\n",
    "neet_stud = pd.read_csv(\"Admitted Candidates List Upto Mop Up Round MBBS BD.xlsx - Table 1.csv\", header=1)\n",
    "\n",
    "neet_stud.columns, neet_report.columns"
   ]
  },
  {
   "cell_type": "code",
   "execution_count": null,
   "metadata": {},
   "outputs": [],
   "source": []
  },
  {
   "cell_type": "code",
   "execution_count": 186,
   "metadata": {},
   "outputs": [],
   "source": [
    "from collections import defaultdict\n",
    "\n",
    "institute_code_to_names = defaultdict(list)\n",
    "institute_name_to_codes = {}\n",
    "for it, row in neet_stud.iterrows():\n",
    "    code, name = row[\"Institute Code\"], row[\"Institute Name\"]\n",
    "\n",
    "    if name not in institute_code_to_names[code]:\n",
    "        institute_code_to_names[code].append(name)\n",
    "\n",
    "    institute_name_to_codes[name] = code"
   ]
  },
  {
   "cell_type": "code",
   "execution_count": null,
   "metadata": {},
   "outputs": [],
   "source": [
    "for k, v in institute_code_to_names.items():\n",
    "    if len(v) > 1:\n",
    "        print(k, v)\n",
    "        break"
   ]
  },
  {
   "cell_type": "code",
   "execution_count": 167,
   "metadata": {},
   "outputs": [],
   "source": [
    "# i am picking the first one that appears\n",
    "code_to_college_mapper = {}\n",
    "for k, v in institute_code_to_names.items():\n",
    "    code_to_college_mapper[k] = v[0]\n",
    "\n",
    "assert len(institute_code_to_names) == len(code_to_college_mapper)"
   ]
  },
  {
   "cell_type": "code",
   "execution_count": 168,
   "metadata": {},
   "outputs": [],
   "source": [
    "# for each round, for each subject, for each quota, \n",
    "# using ph as pwd -- physically handicapped\n",
    "# consider allotted cat or actual cat?\n",
    "# what to do about quota? Employee State Insurance, etc.\n",
    "# all of this should be for each institute na ... institute code!!\n",
    "deter_cols = [\"Quota\", \"Admitte dRound\", \"Allotte d ph\", \"Subject\"]\n",
    "\n",
    "output_cols = [\"Institute Code\", \"Institute Name\"]\n",
    "\n",
    "close_mapper = defaultdict(lambda : 0)\n",
    "open_mapper = defaultdict(lambda : float(\"inf\"))\n",
    "\n",
    "for it, row in neet_stud.iterrows():\n",
    "\n",
    "    deter_col_vals = [row[x] for x in deter_cols]\n",
    "    \n",
    "    cat = row[\"Allotted Category\"]\n",
    "    if cat == \"OP\":\n",
    "        cat = \"General\"\n",
    "    \n",
    "    deter_col_vals.append(cat)\n",
    "\n",
    "    inst_code = row[\"Institute Code\"]\n",
    "    output_col_vals = [inst_code, code_to_college_mapper[inst_code]]\n",
    "\n",
    "    all_cols = deter_col_vals + output_col_vals\n",
    "\n",
    "    all_cols = tuple(all_cols) # hashable\n",
    "\n",
    "    if close_mapper[all_cols] < row[\"AIR\"]:\n",
    "        close_mapper[all_cols] = row[\"AIR\"]\n",
    "\n",
    "    if open_mapper[all_cols] > row[\"AIR\"]:\n",
    "        open_mapper[all_cols] = row[\"AIR\"]\n",
    "\n",
    "\n"
   ]
  },
  {
   "cell_type": "code",
   "execution_count": 169,
   "metadata": {},
   "outputs": [
    {
     "name": "stdout",
     "output_type": "stream",
     "text": [
      "('Open Seat Quota', 1, 'NO', 'MBBS', 'General', 200502, 'AIIMS, New Delhi,AIIMS ANSARI NAGAR EAST AUROBINDO MARG NEW DELHI 110029, Delhi (NCT), 110029') 55.0\n"
     ]
    }
   ],
   "source": [
    "for k, v in close_mapper.items():\n",
    "    print(k, v)\n",
    "    break"
   ]
  },
  {
   "cell_type": "code",
   "execution_count": 170,
   "metadata": {},
   "outputs": [],
   "source": [
    "cat_unique_values = [\"SC\", \"ST\", \"General\", \"OBC\", \"EW\"]"
   ]
  },
  {
   "cell_type": "code",
   "execution_count": 171,
   "metadata": {},
   "outputs": [],
   "source": [
    "all_dic = []\n",
    "selectors = [0, 1, 2, 3, 4, 5, 6]\n",
    "selector_names = [\"Quota\", \"Round\", \"is_PWD\", \"Subject\", \"Seat Type\", \"Institute Code\", \"Institute Name\"]\n",
    "\n",
    "for k, v in close_mapper.items():\n",
    "    dic = {}\n",
    "    for key_index, name in zip(selectors, selector_names):\n",
    "        dic[name] = k[key_index]\n",
    "\n",
    "    if k in open_mapper:\n",
    "        dic[\"Opening Rank\"] = open_mapper[k]\n",
    "\n",
    "    dic[\"Closing_Rank\"] = v\n",
    "    \n",
    "    all_dic.append(dic)\n",
    "\n",
    "    # break\n",
    "\n",
    "all_dic = pd.DataFrame(all_dic)"
   ]
  },
  {
   "cell_type": "code",
   "execution_count": 172,
   "metadata": {},
   "outputs": [],
   "source": [
    "# time to rank institutes!!\n",
    "# find round 1 ka opening rank.. rank based on it!\n",
    "\n",
    "code_to_open_ranks = defaultdict(lambda : float(\"inf\"))\n",
    "\n",
    "for it, row in all_dic.iterrows():\n",
    "    # print(row[\"Round\"] == 1 , row[\"Category\"] == \"General\" , row[\"is_PWD\"] == \"NO\", row[\"Quota\"] == \"Open Seat Quota\")\n",
    "    if code_to_open_ranks[row[\"Institute Code\"]] > row[\"Opening Rank\"]:\n",
    "        code_to_open_ranks[row[\"Institute Code\"]] = row[\"Opening Rank\"]\n",
    "\n",
    "        # break"
   ]
  },
  {
   "cell_type": "code",
   "execution_count": 173,
   "metadata": {},
   "outputs": [],
   "source": [
    "# now sort the dict based on this\n",
    "# sort keys of dict based on values\n",
    "ranking = sorted(code_to_open_ranks.items(), key = lambda item: item[1])\n",
    "\n",
    "code_to_rank_mapper = {}\n",
    "\n",
    "rank_idx = 1\n",
    "for k, v in ranking:\n",
    "    code_to_rank_mapper[k] = rank_idx\n",
    "    rank_idx += 1"
   ]
  },
  {
   "cell_type": "code",
   "execution_count": 174,
   "metadata": {},
   "outputs": [
    {
     "data": {
      "text/plain": [
       "(483, 483)"
      ]
     },
     "execution_count": 174,
     "metadata": {},
     "output_type": "execute_result"
    }
   ],
   "source": [
    "len(all_dic[\"Institute Code\"].unique()), len(code_to_open_ranks)"
   ]
  },
  {
   "cell_type": "code",
   "execution_count": 175,
   "metadata": {},
   "outputs": [],
   "source": [
    "all_dic[\"College Rank\"] = all_dic[\"Institute Code\"].map(code_to_rank_mapper)"
   ]
  },
  {
   "cell_type": "code",
   "execution_count": 177,
   "metadata": {},
   "outputs": [],
   "source": [
    "# combine pwd and category\n",
    "all_dic[\"Seat Type\"] = all_dic.apply(lambda row: row[\"Seat Type\"] + \" (PwD)\" if row[\"is_PWD\"] != \"NO\" else row[\"Seat Type\"], axis = 1)"
   ]
  },
  {
   "cell_type": "code",
   "execution_count": 151,
   "metadata": {},
   "outputs": [
    {
     "data": {
      "text/plain": [
       "(Index(['Quota', 'Round', 'is_PWD', 'Subject', 'Category', 'Institute Code',\n",
       "        'Institute Name', 'Opening Rank', 'Closing_Rank', 'College Rank'],\n",
       "       dtype='object'),\n",
       " Index(['College Rank', 'State', 'Exam', 'Institute', 'Academic Program Name',\n",
       "        'Quota', 'Special Quota', 'Seat Type', 'Gender', 'Round',\n",
       "        'Opening Rank', 'Closing Rank', 'Input Rank Comparison to Closing Rank',\n",
       "        'Category Match', '500', 'OBC-NCL'],\n",
       "       dtype='object'))"
      ]
     },
     "execution_count": 151,
     "metadata": {},
     "output_type": "execute_result"
    }
   ],
   "source": [
    "all_dic.columns, df.columns"
   ]
  },
  {
   "cell_type": "code",
   "execution_count": 183,
   "metadata": {},
   "outputs": [],
   "source": [
    "all_dic = all_dic.rename(columns={\n",
    "    \"Category\": \"Seat Type\",\n",
    "    \"Institute Name\": \"Institute\",\n",
    "    \"Subject\": \"Academic Program Name\",\n",
    "    \"Closing_Rank\": \"Closing Rank\"\n",
    "}) "
   ]
  },
  {
   "cell_type": "code",
   "execution_count": 179,
   "metadata": {},
   "outputs": [],
   "source": [
    "def replace_cat(row):\n",
    "    cat = row[\"Seat Type\"]\n",
    "    if cat == \"General\":\n",
    "        cat = \"OPEN\"\n",
    "    elif cat == \"General (PwD)\":\n",
    "        cat = \"OPEN (PwD)\"\n",
    "    elif cat == \"EW\":\n",
    "        cat = \"EWS\"\n",
    "    elif cat == \"EW (PwD)\":\n",
    "        cat = \"EWS (PwD)\"\n",
    "    elif cat == \"OBC\":\n",
    "        cat = \"OBC-NCL\"\n",
    "    elif cat == \"OBC (PwD)\":\n",
    "        cat = \"OBC-NCL (PwD)\"\n",
    "\n",
    "    return cat\n",
    "\n",
    "all_dic[\"Seat Type\"] = all_dic.apply(lambda row: replace_cat(row), axis = 1)\n",
    "\n"
   ]
  },
  {
   "cell_type": "code",
   "execution_count": 187,
   "metadata": {},
   "outputs": [
    {
     "name": "stdout",
     "output_type": "stream",
     "text": [
      "(23059, 13) (433, 25)\n"
     ]
    }
   ],
   "source": [
    "# figuring out state for each..\n",
    "# merge on institute name\n",
    "print(neet_stud.shape, neet_report.shape)\n",
    "inst_code_to_state_map = {}\n",
    "for it, row in pd.merge(neet_stud, neet_report, on=[\"Institute Name\"]).iterrows():\n",
    "    name, state = row[\"Institute Name\"], row[\"State\"]\n",
    "\n",
    "    inst_code_to_state_map[institute_name_to_codes[name]] = state\n",
    "\n",
    "\n",
    "\n",
    "all_dic[\"State\"] = all_dic[\"Institute Code\"].map(inst_code_to_state_map)\n"
   ]
  },
  {
   "cell_type": "code",
   "execution_count": 188,
   "metadata": {},
   "outputs": [],
   "source": [
    "for cat in all_dic[\"Seat Type\"].unique():\n",
    "    all_dic_category = all_dic[all_dic[\"Seat Type\"] == cat]\n",
    "\n",
    "    all_dic_category.to_json(f\"public/data/NEET/{cat}.json\", orient=\"records\")"
   ]
  },
  {
   "cell_type": "code",
   "execution_count": 190,
   "metadata": {},
   "outputs": [],
   "source": [
    "all_dic.to_csv(\"Surya - NEET Data.csv\")"
   ]
  },
  {
   "cell_type": "code",
   "execution_count": 3,
   "metadata": {},
   "outputs": [],
   "source": [
    "schol_data = pd.read_csv(\"scholarship_data.csv\")"
   ]
  },
  {
   "cell_type": "code",
   "execution_count": 4,
   "metadata": {},
   "outputs": [],
   "source": [
    "# update state names\n",
    "names_in_sheet = []\n",
    "for it, row in schol_data.iterrows():\n",
    "    for k, v in row.items():\n",
    "        if \"State\" in k:\n",
    "            if v not in names_in_sheet:\n",
    "                names_in_sheet.append(v)\n",
    "\n",
    "            "
   ]
  },
  {
   "cell_type": "code",
   "execution_count": 5,
   "metadata": {},
   "outputs": [
    {
     "data": {
      "text/plain": [
       "[nan,\n",
       " 'Andhra Pradesh',\n",
       " 'Karnataka',\n",
       " 'Telangana',\n",
       " 'Gujarat',\n",
       " 'Maharashtra',\n",
       " 'Tamil Nadu',\n",
       " 'Bihar',\n",
       " 'Haryana',\n",
       " 'Kerala',\n",
       " 'Arunachal Pradesh',\n",
       " 'Assam',\n",
       " 'Manipur',\n",
       " 'Meghalaya',\n",
       " 'Mizoram',\n",
       " 'Nagaland',\n",
       " 'Sikkim',\n",
       " 'Tripura']"
      ]
     },
     "execution_count": 5,
     "metadata": {},
     "output_type": "execute_result"
    }
   ],
   "source": [
    "names_in_sheet"
   ]
  },
  {
   "cell_type": "code",
   "execution_count": 6,
   "metadata": {},
   "outputs": [],
   "source": [
    "# update state names\n",
    "city_names_in_sheet = []\n",
    "for it, row in schol_data.iterrows():\n",
    "    for k, v in row.items():\n",
    "        if \"City\" in k:\n",
    "            if v not in city_names_in_sheet:\n",
    "                city_names_in_sheet.append(v)\n",
    "\n",
    "            "
   ]
  },
  {
   "cell_type": "code",
   "execution_count": 7,
   "metadata": {},
   "outputs": [
    {
     "data": {
      "text/plain": [
       "[nan, 'Mumbai', 'Delhi NCR', 'Ahmedabad', 'Bangalore', 'Pune']"
      ]
     },
     "execution_count": 7,
     "metadata": {},
     "output_type": "execute_result"
    }
   ],
   "source": [
    "city_names_in_sheet"
   ]
  },
  {
   "cell_type": "code",
   "execution_count": 8,
   "metadata": {},
   "outputs": [
    {
     "data": {
      "text/plain": [
       "['IIT', 'NIT', nan]"
      ]
     },
     "execution_count": 8,
     "metadata": {},
     "output_type": "execute_result"
    }
   ],
   "source": [
    "college_names_in_sheet = []\n",
    "for it, row in schol_data.iterrows():\n",
    "    for k, v in row.items():\n",
    "        if \"College\" in k:\n",
    "            if v not in college_names_in_sheet:\n",
    "                college_names_in_sheet.append(v)\n",
    "\n",
    "college_names_in_sheet"
   ]
  },
  {
   "cell_type": "code",
   "execution_count": 9,
   "metadata": {},
   "outputs": [
    {
     "data": {
      "text/plain": [
       "(990, 38)"
      ]
     },
     "execution_count": 9,
     "metadata": {},
     "output_type": "execute_result"
    }
   ],
   "source": [
    "schol_data.shape"
   ]
  },
  {
   "cell_type": "code",
   "execution_count": 11,
   "metadata": {},
   "outputs": [
    {
     "data": {
      "text/plain": [
       "Sl No                                                                                 94.0\n",
       "Scholarship Name                         FINANCIAL SUPPORT TO THE STUDENTS OF NER FOR H...\n",
       "Status                                                                                 NaN\n",
       "Class 11 can Apply                                                                      No\n",
       "Class 12 can Apply                                                                      No\n",
       "Can UG 1st year apply?                                                                 Yes\n",
       "Gender                                                                                Both\n",
       "Family Income (in LPA)                                                                 8.0\n",
       "Category                                                                           General\n",
       "State 1                                                                              Assam\n",
       "State 2                                                                  Arunachal Pradesh\n",
       "State 3                                                                          Meghalaya\n",
       "State 4                                                                            Manipur\n",
       "State 5                                                                            Mizoram\n",
       "State 6                                                                           Nagaland\n",
       "State 7                                                                             Sikkim\n",
       "State 8                                                                            Tripura\n",
       "City 1                                                                                 NaN\n",
       "City 2                                                                                 NaN\n",
       "City 3                                                                                 NaN\n",
       "City 4                                                                                 NaN\n",
       "College 1                                                                              NaN\n",
       "College 2                                                                              NaN\n",
       "Last Date                                                                              NaN\n",
       "Tentative Open Date                                                                    NaN\n",
       "Open for Stream                                                                        ALL\n",
       "Special Criteria                                                    For nort east students\n",
       "Eligibility                              For Diploma, UG, PG, M.phil, Ph.D. with at lea...\n",
       "Benefits                                 Diploma:20,000 per annum, Degree:22,000 per an...\n",
       "Doc Required                             Permanent certificate, Income certificate,  Ba...\n",
       "Number of Applicants                                                                   NaN\n",
       "Number of Scholars                                                                     NaN\n",
       "Karnataka Applicants                                                                   NaN\n",
       "Application Link                                              https://scholarships.gov.in/\n",
       "Added to Portal                                                                        NaN\n",
       "Information about instituions eligble                                                  NaN\n",
       "Deadline for the year 2021-22                                                          NaN\n",
       "Unnamed: 37                                                                            NaN\n",
       "Name: 92, dtype: object"
      ]
     },
     "execution_count": 11,
     "metadata": {},
     "output_type": "execute_result"
    }
   ],
   "source": [
    "schol_data.iloc[92]"
   ]
  },
  {
   "cell_type": "code",
   "execution_count": 12,
   "metadata": {},
   "outputs": [],
   "source": [
    "schol_data[:93].to_json(\"public/data/scholarships/scholarship_data.json\", orient=\"records\")"
   ]
  },
  {
   "cell_type": "code",
   "execution_count": 13,
   "metadata": {},
   "outputs": [
    {
     "data": {
      "text/plain": [
       "array([nan, 'PWD', 'Others', 'SC/ST', 'General ', 'General'], dtype=object)"
      ]
     },
     "execution_count": 13,
     "metadata": {},
     "output_type": "execute_result"
    }
   ],
   "source": [
    "schol_data[\"Category\"].unique()"
   ]
  },
  {
   "cell_type": "code",
   "execution_count": 4,
   "metadata": {},
   "outputs": [],
   "source": [
    "mhcet_data = pd.read_csv(\"MHT CET 2023 All Cutoffs - Cutoffs.csv\")\n",
    "mhcet_cat = pd.read_csv(\"MHT CET 2023 All Cutoffs - Categories.csv\")"
   ]
  },
  {
   "cell_type": "code",
   "execution_count": 8,
   "metadata": {},
   "outputs": [],
   "source": [
    "mhcet_cat = mhcet_cat.rename(columns = {\"Unnamed: 0\": \"Cat\"})"
   ]
  },
  {
   "cell_type": "code",
   "execution_count": 13,
   "metadata": {},
   "outputs": [
    {
     "name": "stdout",
     "output_type": "stream",
     "text": [
      "['GOPENS' 'GOPENH' 'GSCS' 'GSTS' 'GVJS' 'GNT1S' 'GNT2S' 'GNT3S' 'GOBCS'\n",
      " 'LOPENS' 'LSCS' 'LSTS' 'LVJS' 'LNT1S' 'LNT2S' 'LNT3S' 'LOBCS' 'PWDOPENS'\n",
      " 'DEFOPENS' 'TFWS' 'EWS' 'PWDROBC\\nS' 'DEFROBCS' 'Unnamed: 1' 'PWDRSCS'\n",
      " 'GSCH' 'GVJH' 'GNT1H' 'GOBCH' 'LOPENH' 'LOBCH' 'GOPENO' 'GSCO' 'GNT3O'\n",
      " 'GOBCO' 'LOPENO' 'LSCH' 'GSTH' 'LNT2H' 'GNT2H' 'GNT3H' 'LNT1H' 'LSTH'\n",
      " 'GNT2O' 'LSTO' 'LOBCO' 'LNT3H' 'PWDOPENH' 'GSTO' 'GVJO' 'LSCO' 'LNT2O'\n",
      " 'LVJO' 'LNT3O' 'LVJH' 'LNT1O' 'GNT1O' 'PWDROBC' 'PWDOBCS' 'DEFOBCS'\n",
      " 'DEFRSCS' 'ORPHAN' 'MI' 'DEFRNT3S' 'DEFRNT2S' 'PWDRNT2S' 'DEFRNT1S'\n",
      " 'DEFRVJS' 'PWDSCS' 'DEFSCS' 'PWDRNT3S' 'PWDRSCH' 'PWDRNT1S' 'PWDRSTS'\n",
      " 'PWDOBCH' 'PWDRNT2H' 'PWDSCH' 'PWDRNT1H' 'PWDROBC\\nH' 'Unnamed: 2'\n",
      " 'PWDRSTH' 'PWDRVJH' 'PWDRVJS']\n",
      "['General' 'Female']\n",
      "['Open' 'SC' 'ST' 'VJ' 'NT' 'OBC' nan 'EWS' 'Orphan' 'Religious Minority']\n",
      "['Maharashtra' 'Other']\n",
      "['No' 'Yes']\n",
      "['No' 'Yes']\n",
      "['MHT CET']\n"
     ]
    }
   ],
   "source": [
    "for col in mhcet_cat.columns:\n",
    "    print(mhcet_cat[col].unique())"
   ]
  },
  {
   "cell_type": "code",
   "execution_count": 39,
   "metadata": {},
   "outputs": [],
   "source": [
    "# required columns\n",
    "# Gender, Category, State, PWD, Defense, Closing Rank, Institute, Course\n",
    "\n",
    "all_dic = []\n",
    "for it, row in mhcet_data.iterrows():\n",
    "    for k, v in row.items():\n",
    "        \n",
    "        if k in [\"College\", \"Course\", \"Unnamed: 1\", \"Unnamed: 2\"]:\n",
    "            continue\n",
    "        else:\n",
    "            dic = {}\n",
    "            dic[\"Institute\"] = row[\"College\"]\n",
    "            dic[\"Course\"] = row[\"Course\"]\n",
    "            cat_row = dict(mhcet_cat[mhcet_cat[\"Cat\"] == k].iloc[0])\n",
    "            \n",
    "            dic[\"Category\"] = cat_row[\"Category\"]\n",
    "            dic[\"Gender\"] = cat_row[\"Gender\"]\n",
    "            dic[\"Defense\"] = cat_row[\"Defense Ward\"]\n",
    "            dic[\"PWD\"]= cat_row[\"PWD\"]\n",
    "            dic[\"State\"] = cat_row[\"State\"]\n",
    "            dic[\"Category_Key\"] = k\n",
    "\n",
    "            if v == \"\" or pd.isna(v): continue # no rank available\n",
    "\n",
    "            v = str(v)\n",
    "\n",
    "            if \"\\n\" in v:\n",
    "                v = v.split(\"\\n\")[0]\n",
    "            elif \" \" in v:\n",
    "                v = v.split(\" \")[0]\n",
    "            elif \".\" in v:\n",
    "                v = v.split(\".\")[0]\n",
    "\n",
    "            dic[\"Closing Rank\"] = v\n",
    "\n",
    "            all_dic.append(dic)\n",
    "            # break \n",
    "    \n",
    "    # break \n",
    "            # dic[\"Category\"] = k\n",
    "\n",
    "            \n",
    "\n",
    "\n"
   ]
  },
  {
   "cell_type": "code",
   "execution_count": 44,
   "metadata": {},
   "outputs": [],
   "source": [
    "final_mhcet_data = pd.DataFrame(all_dic)"
   ]
  },
  {
   "cell_type": "code",
   "execution_count": 49,
   "metadata": {},
   "outputs": [],
   "source": [
    "final_mhcet_data.to_json(\"public/data/MHTCET/mhtcet_data.json\", orient=\"records\")"
   ]
  },
  {
   "cell_type": "code",
   "execution_count": 61,
   "metadata": {},
   "outputs": [
    {
     "name": "stdout",
     "output_type": "stream",
     "text": [
      "Institute       Government College of Engineering, Amravati\n",
      "Course                                    Civil Engineering\n",
      "Category                                               Open\n",
      "Gender                                              General\n",
      "Defense                                                  No\n",
      "PWD                                                      No\n",
      "State                                           Maharashtra\n",
      "Category_Key                                         GOPENS\n",
      "Closing Rank                                          45820\n",
      "Name: 0, dtype: object\n"
     ]
    }
   ],
   "source": [
    "for it, row in final_mhcet_data.iterrows():\n",
    "    # Show Both Maharashtra No No General\n",
    "    # print(row)\n",
    "    if row[\"Category\"] == \"Open\" and row[\"Gender\"] == \"General\" and row[\"State\"] == \"Maharashtra\" and row[\"PWD\"] == \"No\" and row[\"Defense\"] == \"No\":\n",
    "        print(row)\n",
    "    break"
   ]
  },
  {
   "cell_type": "code",
   "execution_count": 50,
   "metadata": {},
   "outputs": [
    {
     "data": {
      "text/plain": [
       "Index(['Institute', 'Course', 'Category', 'Gender', 'Defense', 'PWD', 'State',\n",
       "       'Category_Key', 'Closing Rank'],\n",
       "      dtype='object')"
      ]
     },
     "execution_count": 50,
     "metadata": {},
     "output_type": "execute_result"
    }
   ],
   "source": [
    "final_mhcet_data.columns"
   ]
  },
  {
   "cell_type": "code",
   "execution_count": 53,
   "metadata": {},
   "outputs": [
    {
     "name": "stdout",
     "output_type": "stream",
     "text": [
      "['Open' 'SC' 'ST' 'VJ' 'NT' 'OBC' nan 'EWS' 'Orphan' 'Religious Minority']\n",
      "['General' 'Female']\n",
      "['No' 'Yes']\n",
      "['No' 'Yes']\n",
      "['Maharashtra']\n",
      "['GOPENS' 'GSCS' 'GSTS' 'GVJS' 'GNT1S' 'GNT2S' 'GNT3S' 'GOBCS' 'LOPENS'\n",
      " 'LSCS' 'LSTS' 'LVJS' 'LNT1S' 'LNT2S' 'LNT3S' 'LOBCS' 'PWDOPENS'\n",
      " 'DEFOPENS' 'TFWS' 'EWS' 'PWDROBC\\nS' 'DEFROBCS' 'PWDRSCS' 'GOPENH' 'GSCH'\n",
      " 'GVJH' 'GNT1H' 'GOBCH' 'LOPENH' 'LOBCH' 'LSCH' 'GNT2H' 'GNT3H' 'LNT1H'\n",
      " 'GSTH' 'LSTH' 'LNT3H' 'PWDOPENH' 'LNT2H' 'LVJH' 'PWDROBC' 'PWDOBCS'\n",
      " 'DEFOBCS' 'DEFRSCS' 'DEFRNT3S' 'ORPHAN' 'DEFRNT2S' 'DEFRVJS' 'PWDRNT2S'\n",
      " 'MI' 'PWDSCS' 'DEFSCS' 'DEFRNT1S' 'PWDRNT1S' 'PWDRSTS' 'PWDRNT3S'\n",
      " 'PWDOBCH' 'PWDSCH' 'PWDRNT1H' 'PWDROBC\\nH' 'PWDRSTH']\n"
     ]
    }
   ],
   "source": [
    "for col in final_mhcet_data.columns:\n",
    "    if col not in [\"Institute\", \"Closing Rank\", \"Course\"]:\n",
    "        print(final_mhcet_data[col].unique())"
   ]
  },
  {
   "cell_type": "code",
   "execution_count": 58,
   "metadata": {},
   "outputs": [
    {
     "data": {
      "text/html": [
       "<div>\n",
       "<style scoped>\n",
       "    .dataframe tbody tr th:only-of-type {\n",
       "        vertical-align: middle;\n",
       "    }\n",
       "\n",
       "    .dataframe tbody tr th {\n",
       "        vertical-align: top;\n",
       "    }\n",
       "\n",
       "    .dataframe thead th {\n",
       "        text-align: right;\n",
       "    }\n",
       "</style>\n",
       "<table border=\"1\" class=\"dataframe\">\n",
       "  <thead>\n",
       "    <tr style=\"text-align: right;\">\n",
       "      <th></th>\n",
       "      <th>Institute</th>\n",
       "      <th>Course</th>\n",
       "      <th>Category</th>\n",
       "      <th>Gender</th>\n",
       "      <th>Defense</th>\n",
       "      <th>PWD</th>\n",
       "      <th>State</th>\n",
       "      <th>Category_Key</th>\n",
       "      <th>Closing Rank</th>\n",
       "    </tr>\n",
       "  </thead>\n",
       "  <tbody>\n",
       "  </tbody>\n",
       "</table>\n",
       "</div>"
      ],
      "text/plain": [
       "Empty DataFrame\n",
       "Columns: [Institute, Course, Category, Gender, Defense, PWD, State, Category_Key, Closing Rank]\n",
       "Index: []"
      ]
     },
     "execution_count": 58,
     "metadata": {},
     "output_type": "execute_result"
    }
   ],
   "source": [
    "final_mhcet_data[final_mhcet_data[\"Category_Key\"] == \"LOBCO\"]"
   ]
  },
  {
   "cell_type": "code",
   "execution_count": null,
   "metadata": {},
   "outputs": [],
   "source": [
    "for seat_type in seat_types:\n",
    "    df_seat_type = df[df[\"Seat Type\"] == seat_type]\n",
    "    df_seat_type.to_json(f\"public/data/{seat_type}.json\", orient=\"records\")"
   ]
  }
 ],
 "metadata": {
  "kernelspec": {
   "display_name": "quiz_backend",
   "language": "python",
   "name": "python3"
  },
  "language_info": {
   "codemirror_mode": {
    "name": "ipython",
    "version": 3
   },
   "file_extension": ".py",
   "mimetype": "text/x-python",
   "name": "python",
   "nbconvert_exporter": "python",
   "pygments_lexer": "ipython3",
   "version": "3.9.12"
  },
  "orig_nbformat": 4,
  "vscode": {
   "interpreter": {
    "hash": "a22a3c1a833c484268b629d10500c4d4f5e83f0440bb4577f2799fa06ed79215"
   }
  }
 },
 "nbformat": 4,
 "nbformat_minor": 2
}
